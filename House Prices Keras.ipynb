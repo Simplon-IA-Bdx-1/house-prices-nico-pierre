{
 "cells": [
  {
   "cell_type": "markdown",
   "metadata": {},
   "source": [
    "# Using keras for the House prices Kaggle challenge"
   ]
  },
  {
   "cell_type": "code",
   "execution_count": 1,
   "metadata": {},
   "outputs": [],
   "source": [
    "import pandas as pd"
   ]
  },
  {
   "cell_type": "code",
   "execution_count": 2,
   "metadata": {},
   "outputs": [],
   "source": [
    "pd.set_option('display.max_columns', 100)"
   ]
  },
  {
   "cell_type": "markdown",
   "metadata": {},
   "source": [
    "Creating datasets"
   ]
  },
  {
   "cell_type": "code",
   "execution_count": 3,
   "metadata": {},
   "outputs": [],
   "source": [
    "X_train_full = pd.read_csv('./sources/train.csv')\n",
    "X_test = pd.read_csv('./sources/test.csv')"
   ]
  },
  {
   "cell_type": "code",
   "execution_count": 4,
   "metadata": {},
   "outputs": [
    {
     "data": {
      "text/html": [
       "<div>\n",
       "<style scoped>\n",
       "    .dataframe tbody tr th:only-of-type {\n",
       "        vertical-align: middle;\n",
       "    }\n",
       "\n",
       "    .dataframe tbody tr th {\n",
       "        vertical-align: top;\n",
       "    }\n",
       "\n",
       "    .dataframe thead th {\n",
       "        text-align: right;\n",
       "    }\n",
       "</style>\n",
       "<table border=\"1\" class=\"dataframe\">\n",
       "  <thead>\n",
       "    <tr style=\"text-align: right;\">\n",
       "      <th></th>\n",
       "      <th>Id</th>\n",
       "    </tr>\n",
       "  </thead>\n",
       "  <tbody>\n",
       "    <tr>\n",
       "      <th>0</th>\n",
       "      <td>1461</td>\n",
       "    </tr>\n",
       "    <tr>\n",
       "      <th>1</th>\n",
       "      <td>1462</td>\n",
       "    </tr>\n",
       "    <tr>\n",
       "      <th>2</th>\n",
       "      <td>1463</td>\n",
       "    </tr>\n",
       "    <tr>\n",
       "      <th>3</th>\n",
       "      <td>1464</td>\n",
       "    </tr>\n",
       "    <tr>\n",
       "      <th>4</th>\n",
       "      <td>1465</td>\n",
       "    </tr>\n",
       "    <tr>\n",
       "      <th>...</th>\n",
       "      <td>...</td>\n",
       "    </tr>\n",
       "    <tr>\n",
       "      <th>1454</th>\n",
       "      <td>2915</td>\n",
       "    </tr>\n",
       "    <tr>\n",
       "      <th>1455</th>\n",
       "      <td>2916</td>\n",
       "    </tr>\n",
       "    <tr>\n",
       "      <th>1456</th>\n",
       "      <td>2917</td>\n",
       "    </tr>\n",
       "    <tr>\n",
       "      <th>1457</th>\n",
       "      <td>2918</td>\n",
       "    </tr>\n",
       "    <tr>\n",
       "      <th>1458</th>\n",
       "      <td>2919</td>\n",
       "    </tr>\n",
       "  </tbody>\n",
       "</table>\n",
       "<p>1459 rows × 1 columns</p>\n",
       "</div>"
      ],
      "text/plain": [
       "        Id\n",
       "0     1461\n",
       "1     1462\n",
       "2     1463\n",
       "3     1464\n",
       "4     1465\n",
       "...    ...\n",
       "1454  2915\n",
       "1455  2916\n",
       "1456  2917\n",
       "1457  2918\n",
       "1458  2919\n",
       "\n",
       "[1459 rows x 1 columns]"
      ]
     },
     "execution_count": 4,
     "metadata": {},
     "output_type": "execute_result"
    }
   ],
   "source": [
    "Y_test = pd.DataFrame()\n",
    "Y_test['Id'] = (X_test['Id'])\n",
    "Y_test"
   ]
  },
  {
   "cell_type": "markdown",
   "metadata": {},
   "source": [
    "Feature engineering"
   ]
  },
  {
   "cell_type": "code",
   "execution_count": 5,
   "metadata": {},
   "outputs": [],
   "source": [
    "X_train_full.fillna(0)\n",
    "X_train_full['SurfaceTot'] = X_train_full['TotalBsmtSF'] + X_train_full['GrLivArea']\n",
    "X_train_full = X_train_full.drop(X_train_full[(X_train_full['SurfaceTot'] > 7000)].index).reset_index(drop=True)"
   ]
  },
  {
   "cell_type": "code",
   "execution_count": 6,
   "metadata": {},
   "outputs": [],
   "source": [
    "X_test.fillna(0)\n",
    "X_test['SurfaceTot'] = X_test['TotalBsmtSF'] + X_test['GrLivArea']"
   ]
  },
  {
   "cell_type": "markdown",
   "metadata": {},
   "source": [
    "Split Train_full into train and val datasets"
   ]
  },
  {
   "cell_type": "code",
   "execution_count": 7,
   "metadata": {},
   "outputs": [],
   "source": [
    "from sklearn.model_selection import train_test_split"
   ]
  },
  {
   "cell_type": "code",
   "execution_count": 8,
   "metadata": {},
   "outputs": [],
   "source": [
    "X_train, X_val = train_test_split(X_train_full, train_size = 0.8, random_state = 42)"
   ]
  },
  {
   "cell_type": "code",
   "execution_count": 9,
   "metadata": {},
   "outputs": [],
   "source": [
    "from numpy import transpose\n",
    "target_column = 'SalePrice'\n",
    "\n",
    "Y_train = X_train[target_column].values.astype(float)\n",
    "X_train = transpose([X_train.SurfaceTot.values.astype(float)])"
   ]
  },
  {
   "cell_type": "code",
   "execution_count": 10,
   "metadata": {},
   "outputs": [],
   "source": [
    "X_test = transpose([X_test.SurfaceTot.values.astype(float)])"
   ]
  },
  {
   "cell_type": "code",
   "execution_count": 11,
   "metadata": {},
   "outputs": [
    {
     "data": {
      "text/plain": [
       "array([[2628.],\n",
       "       [2370.],\n",
       "       [2004.],\n",
       "       ...,\n",
       "       [2104.],\n",
       "       [2078.],\n",
       "       [3060.]])"
      ]
     },
     "execution_count": 11,
     "metadata": {},
     "output_type": "execute_result"
    }
   ],
   "source": [
    "X_train"
   ]
  },
  {
   "cell_type": "markdown",
   "metadata": {},
   "source": [
    "## TODO :\n",
    "\n",
    "- Data cleaning\n",
    "- Take care of Nas"
   ]
  },
  {
   "cell_type": "markdown",
   "metadata": {},
   "source": [
    "Plot 2D SurfaceTot vs SalePrice"
   ]
  },
  {
   "cell_type": "code",
   "execution_count": 12,
   "metadata": {},
   "outputs": [],
   "source": [
    "import seaborn as sns\n",
    "%matplotlib notebook"
   ]
  },
  {
   "cell_type": "code",
   "execution_count": 13,
   "metadata": {},
   "outputs": [
    {
     "data": {
      "text/plain": [
       "<matplotlib.axes._subplots.AxesSubplot at 0x7fadc933a668>"
      ]
     },
     "execution_count": 13,
     "metadata": {},
     "output_type": "execute_result"
    },
    {
     "data": {
      "image/png": "[encoded data removed]",
      "text/plain": [
       "<Figure size 432x288 with 1 Axes>"
      ]
     },
     "metadata": {
      "needs_background": "light"
     },
     "output_type": "display_data"
    }
   ],
   "source": [
    "sns.regplot(x = X_train,\n",
    "            y = Y_train)"
   ]
  },
  {
   "cell_type": "markdown",
   "metadata": {},
   "source": [
    "## Linear regression with Keras"
   ]
  },
  {
   "cell_type": "code",
   "execution_count": 14,
   "metadata": {},
   "outputs": [],
   "source": [
    "from tensorflow.keras.models import Sequential\n",
    "model = Sequential()"
   ]
  },
  {
   "cell_type": "code",
   "execution_count": 15,
   "metadata": {},
   "outputs": [],
   "source": [
    "from tensorflow.keras.layers import Input\n",
    "model.add(Input(shape=X_train.shape[1:]))"
   ]
  },
  {
   "cell_type": "code",
   "execution_count": 16,
   "metadata": {},
   "outputs": [],
   "source": [
    "from tensorflow.keras.layers import Dense\n",
    "model.add(Dense(1))"
   ]
  },
  {
   "cell_type": "code",
   "execution_count": 17,
   "metadata": {},
   "outputs": [],
   "source": [
    "loss = 'mse'"
   ]
  },
  {
   "cell_type": "code",
   "execution_count": 18,
   "metadata": {},
   "outputs": [],
   "source": [
    "from tensorflow.keras.optimizers import SGD\n",
    "LEARNING_RATE = 0.001\n",
    "model.compile(loss=loss, optimizer=SGD(lr=LEARNING_RATE))"
   ]
  },
  {
   "cell_type": "code",
   "execution_count": 20,
   "metadata": {},
   "outputs": [
    {
     "name": "stdout",
     "output_type": "stream",
     "text": [
      "Train on 1166 samples\n",
      "Epoch 1/100\n",
      "1166/1166 [==============================] - 0s 342us/sample - loss: 39210405888.0000\n",
      "Epoch 2/100\n",
      "1166/1166 [==============================] - 0s 1us/sample - loss: 39061647360.0000\n",
      "Epoch 3/100\n",
      "1166/1166 [==============================] - 0s 2us/sample - loss: 38913466368.0000\n",
      "Epoch 4/100\n",
      "1166/1166 [==============================] - 0s 2us/sample - loss: 38765891584.0000\n",
      "Epoch 5/100\n",
      "1166/1166 [==============================] - 0s 2us/sample - loss: 38618902528.0000\n",
      "Epoch 6/100\n",
      "1166/1166 [==============================] - 0s 2us/sample - loss: 38472495104.0000\n",
      "Epoch 7/100\n",
      "1166/1166 [==============================] - 0s 7us/sample - loss: 38326685696.0000\n",
      "Epoch 8/100\n",
      "1166/1166 [==============================] - 0s 3us/sample - loss: 38181449728.0000\n",
      "Epoch 9/100\n",
      "1166/1166 [==============================] - 0s 2us/sample - loss: 38036795392.0000\n",
      "Epoch 10/100\n",
      "1166/1166 [==============================] - 0s 2us/sample - loss: 37892718592.0000\n",
      "Epoch 11/100\n",
      "1166/1166 [==============================] - 0s 4us/sample - loss: 37749219328.0000\n",
      "Epoch 12/100\n",
      "1166/1166 [==============================] - 0s 3us/sample - loss: 37606293504.0000\n",
      "Epoch 13/100\n",
      "1166/1166 [==============================] - 0s 4us/sample - loss: 37463941120.0000\n",
      "Epoch 14/100\n",
      "1166/1166 [==============================] - 0s 2us/sample - loss: 37322145792.0000\n",
      "Epoch 15/100\n",
      "1166/1166 [==============================] - 0s 4us/sample - loss: 37180932096.0000\n",
      "Epoch 16/100\n",
      "1166/1166 [==============================] - 0s 5us/sample - loss: 37040271360.0000\n",
      "Epoch 17/100\n",
      "1166/1166 [==============================] - 0s 5us/sample - loss: 36900179968.0000\n",
      "Epoch 18/100\n",
      "1166/1166 [==============================] - 0s 9us/sample - loss: 36760649728.0000\n",
      "Epoch 19/100\n",
      "1166/1166 [==============================] - 0s 7us/sample - loss: 36621672448.0000\n",
      "Epoch 20/100\n",
      "1166/1166 [==============================] - 0s 7us/sample - loss: 36483252224.0000\n",
      "Epoch 21/100\n",
      "1166/1166 [==============================] - 0s 7us/sample - loss: 36345384960.0000\n",
      "Epoch 22/100\n",
      "1166/1166 [==============================] - 0s 6us/sample - loss: 36208070656.0000\n",
      "Epoch 23/100\n",
      "1166/1166 [==============================] - 0s 6us/sample - loss: 36071301120.0000\n",
      "Epoch 24/100\n",
      "1166/1166 [==============================] - 0s 5us/sample - loss: 35935076352.0000\n",
      "Epoch 25/100\n",
      "1166/1166 [==============================] - 0s 10us/sample - loss: 35799404544.0000\n",
      "Epoch 26/100\n",
      "1166/1166 [==============================] - 0s 5us/sample - loss: 35664269312.0000\n",
      "Epoch 27/100\n",
      "1166/1166 [==============================] - 0s 6us/sample - loss: 35529666560.0000\n",
      "Epoch 28/100\n",
      "1166/1166 [==============================] - 0s 6us/sample - loss: 35395612672.0000\n",
      "Epoch 29/100\n",
      "1166/1166 [==============================] - 0s 4us/sample - loss: 35262091264.0000\n",
      "Epoch 30/100\n",
      "1166/1166 [==============================] - 0s 2us/sample - loss: 35129102336.0000\n",
      "Epoch 31/100\n",
      "1166/1166 [==============================] - 0s 2us/sample - loss: 34996645888.0000\n",
      "Epoch 32/100\n",
      "1166/1166 [==============================] - 0s 7us/sample - loss: 34864717824.0000\n",
      "Epoch 33/100\n",
      "1166/1166 [==============================] - 0s 2us/sample - loss: 34733314048.0000\n",
      "Epoch 34/100\n",
      "1166/1166 [==============================] - 0s 2us/sample - loss: 34602442752.0000\n",
      "Epoch 35/100\n",
      "1166/1166 [==============================] - 0s 6us/sample - loss: 34472091648.0000\n",
      "Epoch 36/100\n",
      "1166/1166 [==============================] - 0s 6us/sample - loss: 34342258688.0000\n",
      "Epoch 37/100\n",
      "1166/1166 [==============================] - 0s 7us/sample - loss: 34212945920.0000\n",
      "Epoch 38/100\n",
      "1166/1166 [==============================] - 0s 5us/sample - loss: 34084145152.0000\n",
      "Epoch 39/100\n",
      "1166/1166 [==============================] - 0s 5us/sample - loss: 33955868672.0000\n",
      "Epoch 40/100\n",
      "1166/1166 [==============================] - 0s 2us/sample - loss: 33828102144.0000\n",
      "Epoch 41/100\n",
      "1166/1166 [==============================] - 0s 5us/sample - loss: 33700847616.0000\n",
      "Epoch 42/100\n",
      "1166/1166 [==============================] - 0s 4us/sample - loss: 33574094848.0000\n",
      "Epoch 43/100\n",
      "1166/1166 [==============================] - 0s 6us/sample - loss: 33447852032.0000\n",
      "Epoch 44/100\n",
      "1166/1166 [==============================] - 0s 5us/sample - loss: 33322119168.0000\n",
      "Epoch 45/100\n",
      "1166/1166 [==============================] - 0s 6us/sample - loss: 33196869632.0000\n",
      "Epoch 46/100\n",
      "1166/1166 [==============================] - 0s 2us/sample - loss: 33072140288.0000\n",
      "Epoch 47/100\n",
      "1166/1166 [==============================] - 0s 2us/sample - loss: 32947908608.0000\n",
      "Epoch 48/100\n",
      "1166/1166 [==============================] - 0s 3us/sample - loss: 32824162304.0000\n",
      "Epoch 49/100\n",
      "1166/1166 [==============================] - 0s 12us/sample - loss: 32700915712.0000\n",
      "Epoch 50/100\n",
      "1166/1166 [==============================] - 0s 6us/sample - loss: 32578166784.0000\n",
      "Epoch 51/100\n",
      "1166/1166 [==============================] - 0s 5us/sample - loss: 32455905280.0000\n",
      "Epoch 52/100\n",
      "1166/1166 [==============================] - 0s 5us/sample - loss: 32334127104.0000\n",
      "Epoch 53/100\n",
      "1166/1166 [==============================] - 0s 6us/sample - loss: 32212838400.0000\n",
      "Epoch 54/100\n",
      "1166/1166 [==============================] - 0s 6us/sample - loss: 32092041216.0000\n",
      "Epoch 55/100\n",
      "1166/1166 [==============================] - 0s 3us/sample - loss: 31971715072.0000\n",
      "Epoch 56/100\n",
      "1166/1166 [==============================] - 0s 6us/sample - loss: 31851872256.0000\n",
      "Epoch 57/100\n",
      "1166/1166 [==============================] - 0s 2us/sample - loss: 31732510720.0000\n",
      "Epoch 58/100\n",
      "1166/1166 [==============================] - 0s 3us/sample - loss: 31613630464.0000\n",
      "Epoch 59/100\n",
      "1166/1166 [==============================] - 0s 4us/sample - loss: 31495223296.0000\n",
      "Epoch 60/100\n",
      "1166/1166 [==============================] - 0s 9us/sample - loss: 31377283072.0000\n",
      "Epoch 61/100\n",
      "1166/1166 [==============================] - 0s 8us/sample - loss: 31259820032.0000\n",
      "Epoch 62/100\n",
      "1166/1166 [==============================] - 0s 7us/sample - loss: 31142830080.0000\n",
      "Epoch 63/100\n",
      "1166/1166 [==============================] - 0s 9us/sample - loss: 31026302976.0000\n",
      "Epoch 64/100\n",
      "1166/1166 [==============================] - 0s 3us/sample - loss: 30910236672.0000\n",
      "Epoch 65/100\n",
      "1166/1166 [==============================] - 0s 6us/sample - loss: 30794637312.0000\n",
      "Epoch 66/100\n",
      "1166/1166 [==============================] - 0s 2us/sample - loss: 30679498752.0000\n",
      "Epoch 67/100\n",
      "1166/1166 [==============================] - 0s 6us/sample - loss: 30564829184.0000\n",
      "Epoch 68/100\n",
      "1166/1166 [==============================] - 0s 2us/sample - loss: 30450610176.0000\n",
      "Epoch 69/100\n",
      "1166/1166 [==============================] - 0s 2us/sample - loss: 30336849920.0000\n",
      "Epoch 70/100\n",
      "1166/1166 [==============================] - 0s 4us/sample - loss: 30223542272.0000\n",
      "Epoch 71/100\n",
      "1166/1166 [==============================] - 0s 4us/sample - loss: 30110685184.0000\n",
      "Epoch 72/100\n",
      "1166/1166 [==============================] - 0s 8us/sample - loss: 29998286848.0000\n",
      "Epoch 73/100\n",
      "1166/1166 [==============================] - 0s 7us/sample - loss: 29886332928.0000\n",
      "Epoch 74/100\n",
      "1166/1166 [==============================] - 0s 6us/sample - loss: 29774823424.0000\n",
      "Epoch 75/100\n",
      "1166/1166 [==============================] - 0s 2us/sample - loss: 29663762432.0000\n",
      "Epoch 76/100\n",
      "1166/1166 [==============================] - 0s 2us/sample - loss: 29553147904.0000\n",
      "Epoch 77/100\n",
      "1166/1166 [==============================] - 0s 5us/sample - loss: 29442971648.0000\n",
      "Epoch 78/100\n",
      "1166/1166 [==============================] - 0s 2us/sample - loss: 29333235712.0000\n",
      "Epoch 79/100\n",
      "1166/1166 [==============================] - 0s 7us/sample - loss: 29223938048.0000\n",
      "Epoch 80/100\n",
      "1166/1166 [==============================] - 0s 2us/sample - loss: 29115078656.0000\n",
      "Epoch 81/100\n",
      "1166/1166 [==============================] - 0s 6us/sample - loss: 29006657536.0000\n",
      "Epoch 82/100\n",
      "1166/1166 [==============================] - 0s 2us/sample - loss: 28898664448.0000\n",
      "Epoch 83/100\n",
      "1166/1166 [==============================] - 0s 4us/sample - loss: 28791101440.0000\n",
      "Epoch 84/100\n",
      "1166/1166 [==============================] - 0s 3us/sample - loss: 28683970560.0000\n",
      "Epoch 85/100\n",
      "1166/1166 [==============================] - 0s 2us/sample - loss: 28577269760.0000\n"
     ]
    },
    {
     "name": "stdout",
     "output_type": "stream",
     "text": [
      "Epoch 86/100\n",
      "1166/1166 [==============================] - 0s 7us/sample - loss: 28470994944.0000\n",
      "Epoch 87/100\n",
      "1166/1166 [==============================] - 0s 3us/sample - loss: 28365142016.0000\n",
      "Epoch 88/100\n",
      "1166/1166 [==============================] - 0s 7us/sample - loss: 28259721216.0000\n",
      "Epoch 89/100\n",
      "1166/1166 [==============================] - 0s 2us/sample - loss: 28154712064.0000\n",
      "Epoch 90/100\n",
      "1166/1166 [==============================] - 0s 3us/sample - loss: 28050122752.0000\n",
      "Epoch 91/100\n",
      "1166/1166 [==============================] - 0s 2us/sample - loss: 27945953280.0000\n",
      "Epoch 92/100\n",
      "1166/1166 [==============================] - 0s 3us/sample - loss: 27842203648.0000\n",
      "Epoch 93/100\n",
      "1166/1166 [==============================] - 0s 2us/sample - loss: 27738861568.0000\n",
      "Epoch 94/100\n",
      "1166/1166 [==============================] - 0s 2us/sample - loss: 27635941376.0000\n",
      "Epoch 95/100\n",
      "1166/1166 [==============================] - 0s 2us/sample - loss: 27533426688.0000\n",
      "Epoch 96/100\n",
      "1166/1166 [==============================] - 0s 6us/sample - loss: 27431321600.0000\n",
      "Epoch 97/100\n",
      "1166/1166 [==============================] - 0s 1us/sample - loss: 27329622016.0000\n",
      "Epoch 98/100\n",
      "1166/1166 [==============================] - 0s 2us/sample - loss: 27228332032.0000\n",
      "Epoch 99/100\n",
      "1166/1166 [==============================] - 0s 2us/sample - loss: 27127449600.0000\n",
      "Epoch 100/100\n",
      "1166/1166 [==============================] - 0s 3us/sample - loss: 27026968576.0000\n"
     ]
    }
   ],
   "source": [
    "BATCH_SIZE = X_train.shape[0] # computing the loss over the whole dataset\n",
    "EPOCHS = 100 # how many iterations over the whole dataset\n",
    "history = model.fit(X_train, Y_train, epochs=EPOCHS, batch_size=BATCH_SIZE)"
   ]
  },
  {
   "cell_type": "markdown",
   "metadata": {},
   "source": [
    "Standardize data"
   ]
  },
  {
   "cell_type": "code",
   "execution_count": 19,
   "metadata": {},
   "outputs": [],
   "source": [
    "from sklearn.preprocessing import StandardScaler\n",
    "scaler = StandardScaler()\n",
    "scaler.fit(X_train)\n",
    "X_train = scaler.transform(X_train)"
   ]
  },
  {
   "cell_type": "markdown",
   "metadata": {},
   "source": [
    "We need to rebuild the model"
   ]
  },
  {
   "cell_type": "code",
   "execution_count": 21,
   "metadata": {},
   "outputs": [
    {
     "name": "stderr",
     "output_type": "stream",
     "text": [
      "/opt/conda/lib/python3.7/site-packages/pandas/core/indexes/base.py:111: FutureWarning: elementwise comparison failed; returning scalar instead, but in the future will perform elementwise comparison\n",
      "  result = op(self.values, np.asarray(other))\n"
     ]
    },
    {
     "data": {
      "text/plain": [
       "<seaborn.axisgrid.FacetGrid at 0x7fad9c5d9c50>"
      ]
     },
     "execution_count": 21,
     "metadata": {},
     "output_type": "execute_result"
    },
    {
     "data": {
      "image/png": "[encoded data removed]",
      "text/plain": [
       "<Figure size 360x360 with 1 Axes>"
      ]
     },
     "metadata": {
      "needs_background": "light"
     },
     "output_type": "display_data"
    }
   ],
   "source": [
    "hist = pd.DataFrame(history.history)\n",
    "sns.relplot(x=hist.index, y=\"loss\", kind=\"line\", data=hist)"
   ]
  },
  {
   "cell_type": "code",
   "execution_count": 22,
   "metadata": {},
   "outputs": [],
   "source": [
    "Y_test['SalePrice'] = model.predict(x=X_test)"
   ]
  },
  {
   "cell_type": "code",
   "execution_count": 23,
   "metadata": {},
   "outputs": [
    {
     "data": {
      "text/html": [
       "<div>\n",
       "<style scoped>\n",
       "    .dataframe tbody tr th:only-of-type {\n",
       "        vertical-align: middle;\n",
       "    }\n",
       "\n",
       "    .dataframe tbody tr th {\n",
       "        vertical-align: top;\n",
       "    }\n",
       "\n",
       "    .dataframe thead th {\n",
       "        text-align: right;\n",
       "    }\n",
       "</style>\n",
       "<table border=\"1\" class=\"dataframe\">\n",
       "  <thead>\n",
       "    <tr style=\"text-align: right;\">\n",
       "      <th></th>\n",
       "      <th>Id</th>\n",
       "      <th>SalePrice</th>\n",
       "    </tr>\n",
       "  </thead>\n",
       "  <tbody>\n",
       "    <tr>\n",
       "      <th>0</th>\n",
       "      <td>1461</td>\n",
       "      <td>21748472.0</td>\n",
       "    </tr>\n",
       "    <tr>\n",
       "      <th>1</th>\n",
       "      <td>1462</td>\n",
       "      <td>32496382.0</td>\n",
       "    </tr>\n",
       "    <tr>\n",
       "      <th>2</th>\n",
       "      <td>1463</td>\n",
       "      <td>31262814.0</td>\n",
       "    </tr>\n",
       "    <tr>\n",
       "      <th>3</th>\n",
       "      <td>1464</td>\n",
       "      <td>30933050.0</td>\n",
       "    </tr>\n",
       "    <tr>\n",
       "      <th>4</th>\n",
       "      <td>1465</td>\n",
       "      <td>31299456.0</td>\n",
       "    </tr>\n",
       "    <tr>\n",
       "      <th>...</th>\n",
       "      <td>...</td>\n",
       "      <td>...</td>\n",
       "    </tr>\n",
       "    <tr>\n",
       "      <th>1454</th>\n",
       "      <td>2915</td>\n",
       "      <td>20038576.0</td>\n",
       "    </tr>\n",
       "    <tr>\n",
       "      <th>1455</th>\n",
       "      <td>2916</td>\n",
       "      <td>20038576.0</td>\n",
       "    </tr>\n",
       "    <tr>\n",
       "      <th>1456</th>\n",
       "      <td>2917</td>\n",
       "      <td>29931540.0</td>\n",
       "    </tr>\n",
       "    <tr>\n",
       "      <th>1457</th>\n",
       "      <td>2918</td>\n",
       "      <td>23018680.0</td>\n",
       "    </tr>\n",
       "    <tr>\n",
       "      <th>1458</th>\n",
       "      <td>2919</td>\n",
       "      <td>36624556.0</td>\n",
       "    </tr>\n",
       "  </tbody>\n",
       "</table>\n",
       "<p>1459 rows × 2 columns</p>\n",
       "</div>"
      ],
      "text/plain": [
       "        Id   SalePrice\n",
       "0     1461  21748472.0\n",
       "1     1462  32496382.0\n",
       "2     1463  31262814.0\n",
       "3     1464  30933050.0\n",
       "4     1465  31299456.0\n",
       "...    ...         ...\n",
       "1454  2915  20038576.0\n",
       "1455  2916  20038576.0\n",
       "1456  2917  29931540.0\n",
       "1457  2918  23018680.0\n",
       "1458  2919  36624556.0\n",
       "\n",
       "[1459 rows x 2 columns]"
      ]
     },
     "execution_count": 23,
     "metadata": {},
     "output_type": "execute_result"
    }
   ],
   "source": [
    "Y_test"
   ]
  },
  {
   "cell_type": "markdown",
   "metadata": {},
   "source": [
    "Send to csv file"
   ]
  },
  {
   "cell_type": "code",
   "execution_count": 24,
   "metadata": {},
   "outputs": [],
   "source": [
    "Y_test.to_csv('./sources/kaggle_sub.csv', index=False)"
   ]
  },
  {
   "cell_type": "markdown",
   "metadata": {},
   "source": [
    "###  Kaggle submission"
   ]
  },
  {
   "cell_type": "code",
   "execution_count": 25,
   "metadata": {},
   "outputs": [
    {
     "ename": "OSError",
     "evalue": "Could not find kaggle.json. Make sure it's located in /home/jovyan/.kaggle. Or use the environment method.",
     "output_type": "error",
     "traceback": [
      "\u001b[0;31m---------------------------------------------------------------------------\u001b[0m",
      "\u001b[0;31mOSError\u001b[0m                                   Traceback (most recent call last)",
      "\u001b[0;32m<ipython-input-25-2e5e3441a2d1>\u001b[0m in \u001b[0;36m<module>\u001b[0;34m\u001b[0m\n\u001b[0;32m----> 1\u001b[0;31m \u001b[0;32mimport\u001b[0m \u001b[0mkaggle\u001b[0m\u001b[0;34m\u001b[0m\u001b[0;34m\u001b[0m\u001b[0m\n\u001b[0m",
      "\u001b[0;32m/opt/conda/lib/python3.7/site-packages/kaggle/__init__.py\u001b[0m in \u001b[0;36m<module>\u001b[0;34m\u001b[0m\n\u001b[1;32m     21\u001b[0m \u001b[0;34m\u001b[0m\u001b[0m\n\u001b[1;32m     22\u001b[0m \u001b[0mapi\u001b[0m \u001b[0;34m=\u001b[0m \u001b[0mKaggleApi\u001b[0m\u001b[0;34m(\u001b[0m\u001b[0mApiClient\u001b[0m\u001b[0;34m(\u001b[0m\u001b[0;34m)\u001b[0m\u001b[0;34m)\u001b[0m\u001b[0;34m\u001b[0m\u001b[0;34m\u001b[0m\u001b[0m\n\u001b[0;32m---> 23\u001b[0;31m \u001b[0mapi\u001b[0m\u001b[0;34m.\u001b[0m\u001b[0mauthenticate\u001b[0m\u001b[0;34m(\u001b[0m\u001b[0;34m)\u001b[0m\u001b[0;34m\u001b[0m\u001b[0;34m\u001b[0m\u001b[0m\n\u001b[0m",
      "\u001b[0;32m/opt/conda/lib/python3.7/site-packages/kaggle/api/kaggle_api_extended.py\u001b[0m in \u001b[0;36mauthenticate\u001b[0;34m(self)\u001b[0m\n\u001b[1;32m    147\u001b[0m                 raise IOError('Could not find {}. Make sure it\\'s located in'\n\u001b[1;32m    148\u001b[0m                               ' {}. Or use the environment method.'.format(\n\u001b[0;32m--> 149\u001b[0;31m                                   self.config_file, self.config_dir))\n\u001b[0m\u001b[1;32m    150\u001b[0m \u001b[0;34m\u001b[0m\u001b[0m\n\u001b[1;32m    151\u001b[0m         \u001b[0;31m# Step 3: load into configuration!\u001b[0m\u001b[0;34m\u001b[0m\u001b[0;34m\u001b[0m\u001b[0;34m\u001b[0m\u001b[0m\n",
      "\u001b[0;31mOSError\u001b[0m: Could not find kaggle.json. Make sure it's located in /home/jovyan/.kaggle. Or use the environment method."
     ]
    }
   ],
   "source": [
    "\n",
    "import kaggle"
   ]
  },
  {
   "cell_type": "code",
   "execution_count": null,
   "metadata": {},
   "outputs": [],
   "source": []
  }
 ],
 "metadata": {
  "kernelspec": {
   "display_name": "Python 3",
   "language": "python",
   "name": "python3"
  },
  "language_info": {
   "codemirror_mode": {
    "name": "ipython",
    "version": 3
   },
   "file_extension": ".py",
   "mimetype": "text/x-python",
   "name": "python",
   "nbconvert_exporter": "python",
   "pygments_lexer": "ipython3",
   "version": "3.7.3"
  },
  "toc": {
   "base_numbering": 1,
   "nav_menu": {},
   "number_sections": true,
   "sideBar": true,
   "skip_h1_title": false,
   "title_cell": "Table of Contents",
   "title_sidebar": "Contents",
   "toc_cell": false,
   "toc_position": {},
   "toc_section_display": true,
   "toc_window_display": true
  }
 },
 "nbformat": 4,
 "nbformat_minor": 2
}
