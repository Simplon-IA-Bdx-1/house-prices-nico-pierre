{
 "cells": [
  {
   "cell_type": "code",
   "execution_count": null,
   "metadata": {},
   "outputs": [],
   "source": [
    "def pretraitements(dataframe):\n",
    "    # On remplace les NaN par none pour les features dont les NA correspondent à l'absence de la feature dans le bien immobilier (vs absence de donnée)\n",
    "    dataframe['Alley'].fillna('none', inplace=True)\n",
    "    dataframe['FireplaceQu'].fillna('none', inplace=True)\n",
    "    dataframe['PoolQC'].fillna('none', inplace=True)\n",
    "    dataframe['Fence'].fillna('none', inplace=True)\n",
    "    dataframe['MiscFeature'].fillna('none', inplace=True)\n",
    "\n",
    "    \n",
    "    # On remplace des valeurs numériques (peu intéressantes) par des \"catégories\" 0 = 0, < mediane = 1, >= mediane = 2\n",
    "    col_to_mean = ['ScreenPorch', '3SsnPorch', 'EnclosedPorch', 'OpenPorchSF', 'WoodDeckSF', 'HalfBath', 'BsmtHalfBath', 'LowQualFinSF', 'BsmtFullBath', 'BsmtFinSF2', 'BsmtFinSF1']\n",
    "    for col_name in col_to_mean:\n",
    "        col_mean = dataframe[col_name].mean() \n",
    "        dataframe.loc[(dataframe[col_name] != 0) & (dataframe[col_name] < col_mean), col_name] = 1\n",
    "        dataframe.loc[(dataframe[col_name] != 0) & (dataframe[col_name] >= col_mean), col_name] = 2\n",
    "    \n",
    "    \n",
    "    \n",
    "#     # Suppression des colonnes (cf S0_DataViz)\n",
    "#     dataframe.drop(['KitchenAbvGr'], axis=1, inplace=True)\n",
    "#     dataframe.drop(['EnclosedPorch'], axis=1, inplace=True)\n",
    "#     dataframe.drop(['MSSubClass'], axis=1, inplace=True)\n",
    "#     dataframe.drop(['OverallCond'], axis=1, inplace=True)\n",
    "#     dataframe.drop(['YrSold'], axis=1, inplace=True)\n",
    "#     dataframe.drop(['LowQualFinSF'], axis=1, inplace=True)\n",
    "#     dataframe.drop(['BsmtHalfBath'], axis=1, inplace=True)\n",
    "#     dataframe.drop(['BsmtFinSF2'], axis=1, inplace=True)\n",
    "#     dataframe.drop(['X3SsnPorch'], axis=1, inplace=True)\n",
    "#     dataframe.drop(['MoSold'], axis=1, inplace=True)\n",
    "#     dataframe.drop(['PoolArea'], axis=1, inplace=True)\n",
    "#     dataframe.drop(['ScreenPorch'], axis=1, inplace=True)\n",
    "    \n",
    "    \n",
    "    \n",
    "    # Supprimer valeurs extremes\n",
    "    \n",
    "    # Remplacer les NaN par NA\n",
    "    dataframe.fillna('NA', inplace=True)\n",
    "    \n",
    "    return dataframe"
   ]
  },
  {
   "cell_type": "code",
   "execution_count": null,
   "metadata": {},
   "outputs": [],
   "source": [
    "def reorganiser_colonnes(df_source, df_destination):\n",
    "    col = df_source.columns.tolist()\n",
    "    df_destination = df_destination[col]\n",
    "    return df_destination"
   ]
  }
 ],
 "metadata": {
  "kernelspec": {
   "display_name": "Python 3",
   "language": "python",
   "name": "python3"
  },
  "language_info": {
   "codemirror_mode": {
    "name": "ipython",
    "version": 3
   },
   "file_extension": ".py",
   "mimetype": "text/x-python",
   "name": "python",
   "nbconvert_exporter": "python",
   "pygments_lexer": "ipython3",
   "version": "3.7.3"
  }
 },
 "nbformat": 4,
 "nbformat_minor": 2
}
